{
 "cells": [
  {
   "cell_type": "code",
   "execution_count": 9,
   "id": "36aad554",
   "metadata": {},
   "outputs": [
    {
     "name": "stdout",
     "output_type": "stream",
     "text": [
      "50\n"
     ]
    }
   ],
   "source": [
    "def area(base , altura):\n",
    "    return base * altura\n",
    "print (area (5 , 10))"
   ]
  },
  {
   "cell_type": "code",
   "execution_count": 10,
   "id": "e9a25b28",
   "metadata": {},
   "outputs": [
    {
     "name": "stdout",
     "output_type": "stream",
     "text": [
      "¡Hola, mundo! 42 3.14159 True\n"
     ]
    }
   ],
   "source": [
    "print(\"¡Hola, mundo!\", \"42\", \"3.14159\", \"True\")"
   ]
  },
  {
   "cell_type": "code",
   "execution_count": 12,
   "id": "565074f1",
   "metadata": {},
   "outputs": [
    {
     "name": "stdout",
     "output_type": "stream",
     "text": [
      "Hola-Python-3.11\n",
      "Mensaje sin saltocontinuación\n",
      "A***B***C!!!\n"
     ]
    }
   ],
   "source": [
    "# Ejemplo de parámetros \n",
    "print(\"Hola\", \"Python\", \"3.11\", sep=\"-\") \n",
    "print(\"Mensaje sin salto\", end=\"\") \n",
    "print(\"continuación\") \n",
    "print(\"A\", \"B\", \"C\", sep=\"***\", end=\"!!!\\n\")"
   ]
  },
  {
   "cell_type": "code",
   "execution_count": 29,
   "id": "bf573101",
   "metadata": {},
   "outputs": [
    {
     "ename": "SyntaxError",
     "evalue": "invalid syntax (255233202.py, line 2)",
     "output_type": "error",
     "traceback": [
      "  \u001b[36mCell\u001b[39m\u001b[36m \u001b[39m\u001b[32mIn[29]\u001b[39m\u001b[32m, line 2\u001b[39m\n\u001b[31m    \u001b[39m\u001b[31mnombre = \"Maria Garcia\" edad = 28\u001b[39m\n                            ^\n\u001b[31mSyntaxError\u001b[39m\u001b[31m:\u001b[39m invalid syntax\n"
     ]
    }
   ],
   "source": [
    "# Caso Práctico 1: Sistema de Informacion Personal \n",
    "nombre = \"Maria Garcia\" edad = 28\n",
    "profesion = \"Desarrolladora Python\" ciudad = \"Madrid\" salario = 45000.50 \n",
    "print(\"= * 50)\")\n",
    "print(\"INFORMACIÓN PERSONAL\") \n",
    "print(\"=\" * 50) print(f\"Nombre: {nombre}\") \n",
    "print (f\"Edad:(edad) años\") \n",
    "print(f\"Profesión: \")\n",
    "print(f\"Ciudad: ¨{ciudad}\")\n",
    "print(f\"Salario:€(salario):,.2f)\")\n",
    "print(\"=\" * 50)"
   ]
  },
  {
   "cell_type": "markdown",
   "id": "795e51b5",
   "metadata": {},
   "source": []
  }
 ],
 "metadata": {
  "kernelspec": {
   "display_name": "Python 3",
   "language": "python",
   "name": "python3"
  },
  "language_info": {
   "codemirror_mode": {
    "name": "ipython",
    "version": 3
   },
   "file_extension": ".py",
   "mimetype": "text/x-python",
   "name": "python",
   "nbconvert_exporter": "python",
   "pygments_lexer": "ipython3",
   "version": "3.13.5"
  }
 },
 "nbformat": 4,
 "nbformat_minor": 5
}
