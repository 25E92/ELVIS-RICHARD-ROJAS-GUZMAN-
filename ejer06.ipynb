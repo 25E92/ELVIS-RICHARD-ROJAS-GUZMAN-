{
 "cells": [
  {
   "cell_type": "code",
   "execution_count": 1,
   "id": "fdaf18a3",
   "metadata": {},
   "outputs": [
    {
     "name": "stdout",
     "output_type": "stream",
     "text": [
      "Hello World!\n"
     ]
    }
   ],
   "source": [
    "hello_world = 'Hello World!'\n",
    "print(hello_world)"
   ]
  },
  {
   "cell_type": "code",
   "execution_count": 2,
   "id": "9192adfb",
   "metadata": {},
   "outputs": [
    {
     "data": {
      "text/plain": [
       "str"
      ]
     },
     "execution_count": 2,
     "metadata": {},
     "output_type": "execute_result"
    }
   ],
   "source": [
    "type(hello_world) #srt singifica String o Cadena en inglés (Cadena de caracteres)"
   ]
  },
  {
   "cell_type": "code",
   "execution_count": null,
   "id": "5c3cd6c8",
   "metadata": {},
   "outputs": [],
   "source": []
  }
 ],
 "metadata": {
  "kernelspec": {
   "display_name": "Python 3",
   "language": "python",
   "name": "python3"
  },
  "language_info": {
   "codemirror_mode": {
    "name": "ipython",
    "version": 3
   },
   "file_extension": ".py",
   "mimetype": "text/x-python",
   "name": "python",
   "nbconvert_exporter": "python",
   "pygments_lexer": "ipython3",
   "version": "3.13.5"
  }
 },
 "nbformat": 4,
 "nbformat_minor": 5
}
