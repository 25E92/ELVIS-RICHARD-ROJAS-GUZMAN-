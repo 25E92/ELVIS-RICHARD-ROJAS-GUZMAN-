{
 "cells": [
  {
   "cell_type": "code",
   "execution_count": 1,
   "id": "c4a5e425",
   "metadata": {},
   "outputs": [
    {
     "name": "stdout",
     "output_type": "stream",
     "text": [
      "El valor de mi_variable es  10\n"
     ]
    }
   ],
   "source": [
    "# variables son las siguientes\n",
    "mi_variable = 10\n",
    "# Rellena con el comando que creas conveniente, por ejemplo:\n",
    "print(\"El valor de mi_variable es \",mi_variable)"
   ]
  },
  {
   "cell_type": "code",
   "execution_count": 3,
   "id": "d7a3f4a9",
   "metadata": {},
   "outputs": [
    {
     "name": "stdout",
     "output_type": "stream",
     "text": [
      "El valor de mi_variable es  3\n"
     ]
    }
   ],
   "source": [
    "mi_variable = 3\n",
    "otra_variable_numerica = 7\n",
    "# Rellena con el comando que creas conveniente, por ejemplo:\n",
    "print(\"El valor de mi_variable es \",mi_variable)"
   ]
  }
 ],
 "metadata": {
  "kernelspec": {
   "display_name": "Python 3",
   "language": "python",
   "name": "python3"
  },
  "language_info": {
   "codemirror_mode": {
    "name": "ipython",
    "version": 3
   },
   "file_extension": ".py",
   "mimetype": "text/x-python",
   "name": "python",
   "nbconvert_exporter": "python",
   "pygments_lexer": "ipython3",
   "version": "3.13.5"
  }
 },
 "nbformat": 4,
 "nbformat_minor": 5
}
