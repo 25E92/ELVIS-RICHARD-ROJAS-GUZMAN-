{
 "cells": [
  {
   "cell_type": "code",
   "execution_count": 2,
   "id": "4f0412ba",
   "metadata": {},
   "outputs": [
    {
     "name": "stdout",
     "output_type": "stream",
     "text": [
      "Hola mundo, soy Carlos de Buenos Aires\n"
     ]
    }
   ],
   "source": [
    "\n",
    "print(\"Hola mundo, soy Carlos de Buenos Aires\")"
   ]
  },
  {
   "cell_type": "code",
   "execution_count": 3,
   "id": "83cbca2f",
   "metadata": {},
   "outputs": [
    {
     "name": "stdout",
     "output_type": "stream",
     "text": [
      "Hola mundo,soy Elvis de Arequipa\n"
     ]
    }
   ],
   "source": [
    "#este te pide tus datos personales y el origen de tu ciudad\n",
    "nombre = input(\"ingrese su nombre completo\")\n",
    "ciudad = input(\"ingrese el lugar de origen\")\n",
    "print(f\"Hola mundo,soy {nombre} de {ciudad}\")"
   ]
  }
 ],
 "metadata": {
  "kernelspec": {
   "display_name": "Python 3",
   "language": "python",
   "name": "python3"
  },
  "language_info": {
   "codemirror_mode": {
    "name": "ipython",
    "version": 3
   },
   "file_extension": ".py",
   "mimetype": "text/x-python",
   "name": "python",
   "nbconvert_exporter": "python",
   "pygments_lexer": "ipython3",
   "version": "3.13.5"
  }
 },
 "nbformat": 4,
 "nbformat_minor": 5
}
