{
 "cells": [
  {
   "cell_type": "code",
   "execution_count": 1,
   "id": "496f25d6",
   "metadata": {},
   "outputs": [
    {
     "name": "stdout",
     "output_type": "stream",
     "text": [
      "Hola soy Carlos y te saludo desde la Masterclass\n"
     ]
    }
   ],
   "source": [
    "#este mensaje te envia saludos desde una tarjeta mastercard\n",
    "print(\"Hola soy Carlos y te saludo desde la Masterclass\")"
   ]
  },
  {
   "cell_type": "code",
   "execution_count": 2,
   "id": "781ed5fe",
   "metadata": {},
   "outputs": [
    {
     "name": "stdout",
     "output_type": "stream",
     "text": [
      "Hola soy elvis y mi numero de dni es: 70238453\n"
     ]
    }
   ],
   "source": [
    "#este mensaje te envia saludos desde una tarjeta banco de la nacion\n",
    "nombre =input(\"escriba su nombre\")\n",
    "dni =input(\"digite su numero de dni\")\n",
    "print(f\"Hola soy {nombre} y mi numero de dni es: {dni}\")"
   ]
  }
 ],
 "metadata": {
  "kernelspec": {
   "display_name": "Python 3",
   "language": "python",
   "name": "python3"
  },
  "language_info": {
   "codemirror_mode": {
    "name": "ipython",
    "version": 3
   },
   "file_extension": ".py",
   "mimetype": "text/x-python",
   "name": "python",
   "nbconvert_exporter": "python",
   "pygments_lexer": "ipython3",
   "version": "3.13.5"
  }
 },
 "nbformat": 4,
 "nbformat_minor": 5
}
