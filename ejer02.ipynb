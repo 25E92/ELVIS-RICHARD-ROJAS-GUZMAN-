{
 "cells": [
  {
   "cell_type": "code",
   "execution_count": 1,
   "id": "671aad2c",
   "metadata": {},
   "outputs": [
    {
     "name": "stdout",
     "output_type": "stream",
     "text": [
      "El valor de mi variable es 8, y el de variable2 es 5\n"
     ]
    }
   ],
   "source": [
    "#este ejercicio son variables que define\n",
    "variable = 8\n",
    "variable2 = 5\n",
    "\n",
    "print(f\"El valor de mi variable es {variable}, y el de variable2 es {variable2}\")"
   ]
  },
  {
   "cell_type": "code",
   "execution_count": 2,
   "id": "b533c9ab",
   "metadata": {},
   "outputs": [
    {
     "name": "stdout",
     "output_type": "stream",
     "text": [
      "El valor 1  es 10, y el de valor 2 es 8\n"
     ]
    }
   ],
   "source": [
    "#este ejercicio son variables \n",
    "valor1 = input(\"ingrese variable 1\")\n",
    "valor2 = input (\"ingrese variable 2\")\n",
    "print(f\"El valor 1  es {valor1}, y el de valor 2 es {valor2}\")"
   ]
  }
 ],
 "metadata": {
  "kernelspec": {
   "display_name": "Python 3",
   "language": "python",
   "name": "python3"
  },
  "language_info": {
   "codemirror_mode": {
    "name": "ipython",
    "version": 3
   },
   "file_extension": ".py",
   "mimetype": "text/x-python",
   "name": "python",
   "nbconvert_exporter": "python",
   "pygments_lexer": "ipython3",
   "version": "3.13.5"
  }
 },
 "nbformat": 4,
 "nbformat_minor": 5
}
